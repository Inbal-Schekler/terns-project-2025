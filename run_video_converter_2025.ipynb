{
  "cells": [
    {
      "cell_type": "markdown",
      "metadata": {
        "id": "view-in-github",
        "colab_type": "text"
      },
      "source": [
        "<a href=\"https://colab.research.google.com/github/Inbal-Schekler/terns-project-2025/blob/main/run_video_converter_2025.ipynb\" target=\"_parent\"><img src=\"https://colab.research.google.com/assets/colab-badge.svg\" alt=\"Open In Colab\"/></a>"
      ]
    },
    {
      "cell_type": "markdown",
      "metadata": {
        "id": "Lgm5MWXq5MFo"
      },
      "source": [
        "### Installing the Ultralytics YOLO package."
      ]
    },
    {
      "cell_type": "code",
      "execution_count": 1,
      "metadata": {
        "colab": {
          "base_uri": "https://localhost:8080/"
        },
        "id": "qrLtcZRcsvy_",
        "outputId": "11013426-b938-4ff5-b848-6876a85cda7d"
      },
      "outputs": [
        {
          "output_type": "stream",
          "name": "stdout",
          "text": [
            "Mounted at /content/drive\n"
          ]
        }
      ],
      "source": [
        "from google.colab import drive\n",
        "drive.mount('/content/drive')"
      ]
    },
    {
      "cell_type": "markdown",
      "metadata": {
        "id": "_ahtZWAS7m36"
      },
      "source": [
        "### Sets the current working directory to ConvertVideoToImage"
      ]
    },
    {
      "cell_type": "code",
      "execution_count": 2,
      "metadata": {
        "id": "eceR5XlC3z9K"
      },
      "outputs": [],
      "source": [
        "import os\n",
        "\n",
        "dir = '/content/drive/MyDrive/tern_project/Eyal/ConvertVideoToImage/'\n",
        "\n",
        "os.chdir(dir)"
      ]
    },
    {
      "cell_type": "markdown",
      "metadata": {
        "id": "xyKsEkmlGPDn"
      },
      "source": [
        "### Read dates videos to convert from config file"
      ]
    },
    {
      "cell_type": "code",
      "execution_count": 3,
      "metadata": {
        "id": "ehYRv1UU-8i0"
      },
      "outputs": [],
      "source": [
        "import configparser\n",
        "\n",
        "# Initialize the ConfigParser object\n",
        "config = configparser.ConfigParser()\n",
        "# Read the INI file\n",
        "config.read('run_video_converter.ini')\n",
        "# Dates to convert videos in\n",
        "dates = config.get('General', 'dates').split(',')\n",
        "# YOLO model path\n",
        "yolo_path = config.get('General', 'yolo_path')"
      ]
    },
    {
      "cell_type": "code",
      "execution_count": 4,
      "metadata": {
        "colab": {
          "base_uri": "https://localhost:8080/"
        },
        "id": "gmmhldWqdaY3",
        "outputId": "9f79b631-0bce-429a-ca33-d6a358acdf89"
      },
      "outputs": [
        {
          "output_type": "execute_result",
          "data": {
            "text/plain": [
              "['2025_06_05']"
            ]
          },
          "metadata": {},
          "execution_count": 4
        }
      ],
      "source": [
        "dates"
      ]
    },
    {
      "cell_type": "markdown",
      "metadata": {
        "id": "8gSRDAlEQF1L"
      },
      "source": [
        "### Get paths of videos to convert"
      ]
    },
    {
      "cell_type": "code",
      "execution_count": 5,
      "metadata": {
        "id": "lG1WRFLRQvjW"
      },
      "outputs": [],
      "source": [
        "import json\n",
        "\n",
        "# Read the JSON configuration file\n",
        "with open('tours_details.json', 'r', encoding='utf-8') as config_file:\n",
        "    tour_configuration = json.load(config_file)\n",
        "# Get videos dir path\n",
        "videos_dir_path = tour_configuration[\"videos_dir\"]"
      ]
    },
    {
      "cell_type": "code",
      "execution_count": 6,
      "metadata": {
        "colab": {
          "base_uri": "https://localhost:8080/",
          "height": 36
        },
        "id": "CPcgeNw_0vm8",
        "outputId": "2e302ce7-ab3a-4a1e-d21c-07fa8e58f64c"
      },
      "outputs": [
        {
          "output_type": "execute_result",
          "data": {
            "text/plain": [
              "'/content/drive/MyDrive/tern_project/terns_movies/2025'"
            ],
            "application/vnd.google.colaboratory.intrinsic+json": {
              "type": "string"
            }
          },
          "metadata": {},
          "execution_count": 6
        }
      ],
      "source": [
        "videos_dir_path"
      ]
    },
    {
      "cell_type": "code",
      "execution_count": 7,
      "metadata": {
        "id": "3gKh0GuIG2Cn"
      },
      "outputs": [],
      "source": [
        "def isFileFromDates(path, dates):\n",
        "    return any(date in path for date in dates)\n",
        "\n",
        "def isVideoFile(path):\n",
        "    video_extensions = ('.mp4', '.avi', '.mkv')\n",
        "    return path.lower().endswith(video_extensions)\n",
        "\n",
        "def get_dir_path_with_parent(directory_path):\n",
        "  # Get the parent directory and the base name of the directory\n",
        "  parent_dir, dir_name = os.path.split(os.path.normpath(directory_path))\n",
        "  # Get the parent directory name and concatenate it with the directory name\n",
        "  return os.path.join(\"/\", os.path.basename(parent_dir), dir_name)[1:]"
      ]
    },
    {
      "cell_type": "code",
      "execution_count": 8,
      "metadata": {
        "id": "c5Ut5SEa89oK"
      },
      "outputs": [],
      "source": [
        "import glob\n",
        "\n",
        "# Get all directories two levels under videos_dir\n",
        "videos_names = glob.glob(os.path.join(videos_dir_path, '*', '*'))\n",
        "\n",
        "\n",
        "\n",
        "# Filter out only videos from a specific date\n",
        "#videos_names = [get_dir_path_with_parent(path) for path in videos_names \\\n",
        "#                  if isVideoFile(path) and isFileFromDates(path, dates) and ('10_00' in path or '15_00' in path)]\n",
        "\n",
        "\n",
        "## for 2025, the name of the hour in the file name is different\n",
        "\n",
        "# Filter out only videos from a specific date\n",
        "videos_names = [get_dir_path_with_parent(path) for path in videos_names \\\n",
        "                  if isVideoFile(path) and isFileFromDates(path, dates)]\n"
      ]
    },
    {
      "cell_type": "code",
      "execution_count": 9,
      "metadata": {
        "colab": {
          "base_uri": "https://localhost:8080/"
        },
        "id": "qAUjXA6oohoF",
        "outputId": "ff6c55c7-9b7a-4bd3-f944-392337c9534c"
      },
      "outputs": [
        {
          "output_type": "execute_result",
          "data": {
            "text/plain": [
              "['181/atlitcam181.stream_2025_06_05_10_01_50.mkv',\n",
              " '181/atlitcam181.stream_2025_06_05_15_01_50.mkv',\n",
              " '191/atlitcam191.stream_2025_06_05_08_59_50.mkv',\n",
              " '191/atlitcam191.stream_2025_06_05_13_59_50.mkv']"
            ]
          },
          "metadata": {},
          "execution_count": 9
        }
      ],
      "source": [
        "videos_names"
      ]
    },
    {
      "cell_type": "code",
      "execution_count": 10,
      "metadata": {
        "colab": {
          "base_uri": "https://localhost:8080/"
        },
        "id": "zFm3qMbN9M_9",
        "outputId": "1a0e64ab-bd28-4df5-c374-b61206903dda"
      },
      "outputs": [
        {
          "output_type": "stream",
          "name": "stdout",
          "text": [
            "Converting video: 181/atlitcam181.stream_2025_06_05_10_01_50.mkv\n",
            "🟢 STDOUT:\n",
            "📂 Created main directory: /content/drive/MyDrive/tern_project/Eyal/ConvertVideoToImage/ImagesDir/2025/atlitcam181.stream_2025_06_05_10_01_50\n",
            "📂 Created tour directory: /content/drive/MyDrive/tern_project/Eyal/ConvertVideoToImage/ImagesDir/2025/atlitcam181.stream_2025_06_05_10_01_50/tour0/\n",
            "✅ Image flag138_0_atlitcam181.stream_2025_06_05_10_01_50.jpg passed with SSIM 0.209\n",
            "📂 Created tour directory: /content/drive/MyDrive/tern_project/Eyal/ConvertVideoToImage/ImagesDir/2025/atlitcam181.stream_2025_06_05_10_01_50/tour1/\n",
            "✅ Image flag138_0_atlitcam181.stream_2025_06_05_10_01_50.jpg passed with SSIM 0.216\n",
            "\n",
            "🔴 STDERR:\n",
            "\n",
            "✅ Successfully converted: 181/atlitcam181.stream_2025_06_05_10_01_50.mkv\n",
            "Converting video: 181/atlitcam181.stream_2025_06_05_15_01_50.mkv\n",
            "🟢 STDOUT:\n",
            "📂 Created main directory: /content/drive/MyDrive/tern_project/Eyal/ConvertVideoToImage/ImagesDir/2025/atlitcam181.stream_2025_06_05_15_01_50\n",
            "📂 Created tour directory: /content/drive/MyDrive/tern_project/Eyal/ConvertVideoToImage/ImagesDir/2025/atlitcam181.stream_2025_06_05_15_01_50/tour0/\n",
            "✅ Image flag138_0_atlitcam181.stream_2025_06_05_15_01_50.jpg passed with SSIM 0.217\n",
            "📂 Created tour directory: /content/drive/MyDrive/tern_project/Eyal/ConvertVideoToImage/ImagesDir/2025/atlitcam181.stream_2025_06_05_15_01_50/tour1/\n",
            "✅ Image flag138_0_atlitcam181.stream_2025_06_05_15_01_50.jpg passed with SSIM 0.215\n",
            "\n",
            "🔴 STDERR:\n",
            "\n",
            "✅ Successfully converted: 181/atlitcam181.stream_2025_06_05_15_01_50.mkv\n",
            "Converting video: 191/atlitcam191.stream_2025_06_05_08_59_50.mkv\n",
            "🟢 STDOUT:\n",
            "📂 Created main directory: /content/drive/MyDrive/tern_project/Eyal/ConvertVideoToImage/ImagesDir/2025/atlitcam191.stream_2025_06_05_08_59_50\n",
            "📂 Created tour directory: /content/drive/MyDrive/tern_project/Eyal/ConvertVideoToImage/ImagesDir/2025/atlitcam191.stream_2025_06_05_08_59_50/tour0/\n",
            "✅ Image flag85_0_atlitcam191.stream_2025_06_05_08_59_50.jpg passed with SSIM 0.122\n",
            "📂 Created tour directory: /content/drive/MyDrive/tern_project/Eyal/ConvertVideoToImage/ImagesDir/2025/atlitcam191.stream_2025_06_05_08_59_50/tour1/\n",
            "✅ Image flag85_0_atlitcam191.stream_2025_06_05_08_59_50.jpg passed with SSIM 0.123\n",
            "\n",
            "🔴 STDERR:\n",
            "\n",
            "✅ Successfully converted: 191/atlitcam191.stream_2025_06_05_08_59_50.mkv\n",
            "Converting video: 191/atlitcam191.stream_2025_06_05_13_59_50.mkv\n",
            "🟢 STDOUT:\n",
            "📂 Created main directory: /content/drive/MyDrive/tern_project/Eyal/ConvertVideoToImage/ImagesDir/2025/atlitcam191.stream_2025_06_05_13_59_50\n",
            "📂 Created tour directory: /content/drive/MyDrive/tern_project/Eyal/ConvertVideoToImage/ImagesDir/2025/atlitcam191.stream_2025_06_05_13_59_50/tour0/\n",
            "✅ Image flag85_0_atlitcam191.stream_2025_06_05_13_59_50.jpg passed with SSIM 0.121\n",
            "📂 Created tour directory: /content/drive/MyDrive/tern_project/Eyal/ConvertVideoToImage/ImagesDir/2025/atlitcam191.stream_2025_06_05_13_59_50/tour1/\n",
            "✅ Image flag85_0_atlitcam191.stream_2025_06_05_13_59_50.jpg passed with SSIM 0.121\n",
            "\n",
            "🔴 STDERR:\n",
            "\n",
            "✅ Successfully converted: 191/atlitcam191.stream_2025_06_05_13_59_50.mkv\n"
          ]
        }
      ],
      "source": [
        "import subprocess\n",
        "\n",
        "for video_name in videos_names:\n",
        "    print(f'Converting video: {video_name}')\n",
        "    images_relative_path_arg = f\"-r {video_name}\"  # Images dir to pass as argument\n",
        "    script_path = \"/content/drive/MyDrive/tern_project/Eyal/ConvertVideoToImage/tours_extractor_2025.py\"\n",
        "    command = f\"python '{script_path}' {images_relative_path_arg}\"\n",
        "\n",
        "    result = subprocess.run(command, shell=True, capture_output=True, text=True)\n",
        "    #result = subprocess.run(command, shell=True,)\n",
        "    print(\"🟢 STDOUT:\")\n",
        "    print(result.stdout)\n",
        "    print(\"🔴 STDERR:\")\n",
        "    print(result.stderr)\n",
        "\n",
        "    if result.returncode == 0:\n",
        "        print(f\"✅ Successfully converted: {video_name}\")\n",
        "    else:\n",
        "        print(f\"❌ Error occurred while processing {video_name} (exit code {result.returncode})\")\n"
      ]
    },
    {
      "cell_type": "code",
      "source": [],
      "metadata": {
        "id": "g6094otdfp0F"
      },
      "execution_count": null,
      "outputs": []
    }
  ],
  "metadata": {
    "colab": {
      "provenance": [],
      "mount_file_id": "1zDfIRoKpqObJgInGAxDA3dW011IEcIuc",
      "authorship_tag": "ABX9TyOrcAZP4u30FUBXbTKn2R7w",
      "include_colab_link": true
    },
    "kernelspec": {
      "display_name": "Python 3",
      "name": "python3"
    },
    "language_info": {
      "name": "python"
    }
  },
  "nbformat": 4,
  "nbformat_minor": 0
}